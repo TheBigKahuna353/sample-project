{
  "cells": [
    {
      "cell_type": "code",
      "execution_count": null,
      "metadata": {
        "collapsed": false
      },
      "outputs": [],
      "source": [
        "%matplotlib inline"
      ]
    },
    {
      "cell_type": "markdown",
      "metadata": {},
      "source": [
        "\nAuthor: Vin\u00edcius Romano\nGithub: https://github.com/romavini\n"
      ]
    },
    {
      "cell_type": "code",
      "execution_count": null,
      "metadata": {
        "collapsed": false
      },
      "outputs": [],
      "source": [
        "from hooman import Hooman\nimport pygame\n\nhapi = Hooman(500, 500)\n\nbg_col = (255, 255, 255)\n\ngrey_button = {\n    \"background_color\": (200, 200, 200),\n    \"hover_background_color\": (220, 220, 220),\n    \"curve\": 0.1,\n    \"padding_x\": 5,\n    \"padding_y\": 5,\n    \"font_size\": 15,\n}\n\n\ndef check_click():\n    if (\n        (button.x + button.w > hapi.mouseX() > button.x)\n        and (button.y + button.h > hapi.mouseY() > button.y)\n        and pygame.mouse.get_pressed()[0] == True\n    ):\n        return True\n    else:\n        return False\n\n\ndef handle_events(event):\n    if event.type == pygame.QUIT:\n        hapi.is_running = False\n    elif (event.type == pygame.KEYDOWN) and (event.key == pygame.K_ESCAPE):\n        hapi.is_running = False\n\n\nhapi.handle_events = handle_events\n\nbutton = hapi.button(150, 150, 180, 100, \"Click me and hold!\", grey_button)\n\nwhile hapi.is_running:\n    hapi.background(bg_col)\n\n    mouse_coord = (hapi.mouseX(), hapi.mouseY())\n\n    button.update()\n    if check_click():\n        bg_col = (255, 0, 0)\n    else:\n        bg_col = (255, 255, 255)\n\n    hapi.set_background(bg_col)\n    hapi.flip_display()\n    hapi.event_loop()\n\npygame.quit()"
      ]
    }
  ],
  "metadata": {
    "kernelspec": {
      "display_name": "Python 3",
      "language": "python",
      "name": "python3"
    },
    "language_info": {
      "codemirror_mode": {
        "name": "ipython",
        "version": 3
      },
      "file_extension": ".py",
      "mimetype": "text/x-python",
      "name": "python",
      "nbconvert_exporter": "python",
      "pygments_lexer": "ipython3",
      "version": "3.10.4"
    }
  },
  "nbformat": 4,
  "nbformat_minor": 0
}