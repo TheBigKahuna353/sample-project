{
  "cells": [
    {
      "cell_type": "code",
      "execution_count": null,
      "metadata": {
        "collapsed": false
      },
      "outputs": [],
      "source": [
        "%matplotlib inline"
      ]
    },
    {
      "cell_type": "markdown",
      "metadata": {},
      "source": [
        "\nAuthor: Abdur-Rahmaan Janhangeer\nGithub: https://github.com/Abdur-rahmaanJ\n"
      ]
    },
    {
      "cell_type": "code",
      "execution_count": null,
      "metadata": {
        "collapsed": false
      },
      "outputs": [],
      "source": [
        "from hooman import Hooman\n\nimport pygame\n\nwindow_width, window_height = 500, 500\nhapi = Hooman(window_width, window_height)\n\nbg_col = (255, 255, 255)\n\n\nwhile hapi.is_running:\n    hapi.background(bg_col)\n\n    hapi.fill(hapi.color[\"red\"])\n    hapi.fill_arc(hapi.center_x, hapi.center_y, 100, 0, 90, start_rad=30)\n    hapi.fill(hapi.color[\"blue\"])\n    hapi.fill_arc(hapi.center_x, hapi.center_y, 100, 90, 180, start_rad=30)\n    hapi.fill(hapi.color[\"green\"])\n    hapi.fill_arc(hapi.center_x, hapi.center_y, 100, 180, 270, start_rad=30)\n    hapi.fill(hapi.color[\"black\"])\n    hapi.fill_arc(hapi.center_x, hapi.center_y, 100, 270, 0, start_rad=30)\n\n    hapi.event_loop()\n    hapi.flip_display()\n\npygame.quit()"
      ]
    }
  ],
  "metadata": {
    "kernelspec": {
      "display_name": "Python 3",
      "language": "python",
      "name": "python3"
    },
    "language_info": {
      "codemirror_mode": {
        "name": "ipython",
        "version": 3
      },
      "file_extension": ".py",
      "mimetype": "text/x-python",
      "name": "python",
      "nbconvert_exporter": "python",
      "pygments_lexer": "ipython3",
      "version": "3.10.4"
    }
  },
  "nbformat": 4,
  "nbformat_minor": 0
}