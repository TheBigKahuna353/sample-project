{
  "cells": [
    {
      "cell_type": "code",
      "execution_count": null,
      "metadata": {
        "collapsed": false
      },
      "outputs": [],
      "source": [
        "%matplotlib inline"
      ]
    },
    {
      "cell_type": "markdown",
      "metadata": {},
      "source": [
        "Author: Bhargava N Reddy\nGithub: https://github.com/reddybhargava\n"
      ]
    },
    {
      "cell_type": "code",
      "execution_count": null,
      "metadata": {
        "collapsed": false
      },
      "outputs": [],
      "source": [
        "from hooman import Hooman\nimport pygame\nfrom random import sample\n\nwindow_width, window_height = 500, 500\nhapi = Hooman(window_width, window_height)\n\n\ndef handle_events(event):\n    if event.type == pygame.QUIT:\n        hapi.is_running = False\n    if event.type == pygame.KEYDOWN:\n        if event.key == pygame.K_ESCAPE:\n            hapi.is_running = False\n\n\nhapi.handle_events = handle_events\n\nclock = pygame.time.Clock()\n\nbackground_color = (0, 255, 255)\nwhile hapi.is_running:\n    hapi.background(background_color)\n\n    num_of_stars = window_width // 100\n    random_colors = sample(list(hapi.color.values()), num_of_stars)\n\n    for y in range(0, window_height, 20):\n        hapi.background(background_color)\n        for i, x in enumerate(range(50, window_width, 100)):\n            hapi.fill(random_colors[i])\n            hapi.star(x, y, 40, 20, 10)\n\n        hapi.flip_display()\n        hapi.event_loop()\n        clock.tick(10)\n\npygame.quit()"
      ]
    }
  ],
  "metadata": {
    "kernelspec": {
      "display_name": "Python 3",
      "language": "python",
      "name": "python3"
    },
    "language_info": {
      "codemirror_mode": {
        "name": "ipython",
        "version": 3
      },
      "file_extension": ".py",
      "mimetype": "text/x-python",
      "name": "python",
      "nbconvert_exporter": "python",
      "pygments_lexer": "ipython3",
      "version": "3.10.4"
    }
  },
  "nbformat": 4,
  "nbformat_minor": 0
}