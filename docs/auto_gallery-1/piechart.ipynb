{
  "cells": [
    {
      "cell_type": "code",
      "execution_count": null,
      "metadata": {
        "collapsed": false
      },
      "outputs": [],
      "source": [
        "%matplotlib inline"
      ]
    },
    {
      "cell_type": "markdown",
      "metadata": {},
      "source": [
        "\nAuthor: Abdur-Rahmaan Janhangeer\nGithub: https://github.com/Abdur-rahmaanJ\n"
      ]
    },
    {
      "cell_type": "code",
      "execution_count": null,
      "metadata": {
        "collapsed": false
      },
      "outputs": [],
      "source": [
        "from hooman import Hooman\nfrom collections import OrderedDict\nimport pygame\n\nwindow_width, window_height = 500, 500\nhapi = Hooman(window_width, window_height)\n\nbg_col = (255, 255, 255)\n\nwhile hapi.is_running:\n    hapi.background(bg_col)\n\n    hapi.piechart(\n        hapi.center_x - 100,\n        hapi.center_y,\n        100,\n        [\n            [\"a\", 20, hapi.color[\"red\"]],\n            [\"b\", 30, hapi.color[\"blue\"]],\n            [\"c\", 40, hapi.color[\"yellow\"]],\n            [\"d\", 60, hapi.color[\"green\"]],\n            [\"e\", 30, hapi.color[\"black\"]],\n        ],\n    )\n    hapi.piechart(\n        hapi.center_x + 100,\n        hapi.center_y,\n        100,\n        [\n            [\"a\", 20, hapi.color[\"red\"]],\n            [\"b\", 30, hapi.color[\"blue\"]],\n            [\"c\", 40, hapi.color[\"yellow\"]],\n            [\"d\", 60, hapi.color[\"green\"]],\n            [\"e\", 30, hapi.color[\"black\"]],\n        ],\n        start_rad=30,\n    )\n\n    hapi.event_loop()\n    hapi.flip_display()\n\npygame.quit()"
      ]
    }
  ],
  "metadata": {
    "kernelspec": {
      "display_name": "Python 3",
      "language": "python",
      "name": "python3"
    },
    "language_info": {
      "codemirror_mode": {
        "name": "ipython",
        "version": 3
      },
      "file_extension": ".py",
      "mimetype": "text/x-python",
      "name": "python",
      "nbconvert_exporter": "python",
      "pygments_lexer": "ipython3",
      "version": "3.10.4"
    }
  },
  "nbformat": 4,
  "nbformat_minor": 0
}