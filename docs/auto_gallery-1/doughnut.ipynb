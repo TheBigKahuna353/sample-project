{
  "cells": [
    {
      "cell_type": "code",
      "execution_count": null,
      "metadata": {
        "collapsed": false
      },
      "outputs": [],
      "source": [
        "%matplotlib inline"
      ]
    },
    {
      "cell_type": "markdown",
      "metadata": {},
      "source": [
        "\nAuthor: Abdur-Rahmaan Janhangeer\nGithub: https://github.com/Abdur-rahmaanJ\n"
      ]
    },
    {
      "cell_type": "code",
      "execution_count": null,
      "metadata": {
        "collapsed": false
      },
      "outputs": [],
      "source": [
        "from hooman import Hooman\n\nimport pygame\n\nwindow_width, window_height = 500, 500\nhapi = Hooman(window_width, window_height)\n\nbg_col = (255, 255, 255)\n\nstart_options = {\n    \"background_color\": hapi.color[\"grey\"],\n    \"slider_color\": (200, 200, 200),\n    \"value_range\": [0, 360],\n    \"starting_value\": 0,\n}\nend_options = {\n    \"background_color\": hapi.color[\"grey\"],\n    \"slider_color\": (200, 200, 200),\n    \"value_range\": [0, 360],\n    \"starting_value\": 90,\n}\n\nstart_angle = hapi.slider(50, 400, 400, 20, start_options)\nend_angle = hapi.slider(50, 430, 400, 20, end_options)\n\nwhile hapi.is_running:\n    hapi.background(bg_col)\n\n    hapi.fill(hapi.color[\"red\"])\n    hapi.fill_arc(\n        hapi.center_x,\n        hapi.center_y,\n        100,\n        start_angle.value(),\n        end_angle.value(),\n        start_rad=30,\n    )\n    hapi.text(\"{}-{}\".format(start_angle.value(), end_angle.value()), 50, 450)\n\n    start_angle.update()\n    end_angle.update()\n    hapi.event_loop()\n    hapi.flip_display()\n\npygame.quit()"
      ]
    }
  ],
  "metadata": {
    "kernelspec": {
      "display_name": "Python 3",
      "language": "python",
      "name": "python3"
    },
    "language_info": {
      "codemirror_mode": {
        "name": "ipython",
        "version": 3
      },
      "file_extension": ".py",
      "mimetype": "text/x-python",
      "name": "python",
      "nbconvert_exporter": "python",
      "pygments_lexer": "ipython3",
      "version": "3.10.4"
    }
  },
  "nbformat": 4,
  "nbformat_minor": 0
}