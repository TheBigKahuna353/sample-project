{
  "cells": [
    {
      "cell_type": "code",
      "execution_count": null,
      "metadata": {
        "collapsed": false
      },
      "outputs": [],
      "source": [
        "%matplotlib inline"
      ]
    },
    {
      "cell_type": "markdown",
      "metadata": {},
      "source": [
        "\nAuthor: https://github.com/TheBigKahuna353\nEdit: https://github.com/Abdur-rahmaanJ\n"
      ]
    },
    {
      "cell_type": "code",
      "execution_count": null,
      "metadata": {
        "collapsed": false
      },
      "outputs": [],
      "source": [
        "from hooman import Hooman\n\nimport pygame\n\nwindow_width, window_height = 500, 500\nhapi = Hooman(window_width, window_height)\n\nbg_col = (255, 255, 255)\n\n# the function that gets called when the button is clicked on\ndef button_clicked(this):\n    if this.y == 250:\n        this.y = 300\n    else:\n        this.y = 250\n\n\ngrey_style = {\n    \"background_color\": (200, 200, 200),\n    \"hover_background_color\": (220, 220, 220),\n    \"curve\": 0.1,\n    \"padding_x\": 5,\n    \"padding_y\": 5,\n    \"font_size\": 15,\n}\n\n\ndef button_enter(this):\n    hapi.set_background(hapi.color[\"green\"])\n\n\ndef button_exit(this):\n    hapi.set_background(hapi.color[\"white\"])\n\n\nstylex = grey_style.copy()\nstylex[\"on_enter\"] = button_enter\nstylex[\"on_exit\"] = button_exit\n\nbutton1 = hapi.button(150, 150, 100, 50, \"Click Me\", grey_style)\n\nbuttonx = hapi.button(150, 10, 100, 50, \"Hover Me\", stylex)\n\nbutton2 = hapi.button(\n    150,\n    250,\n    100,\n    50,\n    \"No Click Me\",\n    {\n        \"background_color\": (200, 200, 200),\n        \"hover_background_color\": (220, 220, 220),\n        \"outline\": True,\n        \"outline_color\": (200, 200, 200),\n        \"outline_thickness\": 5,\n        \"curve\": 0.3,\n        \"on_click\": button_clicked,\n        \"padding_x\": 40,\n        \"padding_y\": 10,\n        \"font_size\": 15,\n    },\n)\n\n\ndef handle_events(event):\n    if event.type == pygame.QUIT:\n        hapi.is_running = False\n    if event.type == pygame.KEYDOWN:\n        if event.key == pygame.K_ESCAPE:\n            hapi.is_running = False\n\n\nhapi.handle_events = handle_events\n\nclock = pygame.time.Clock()\n\nhapi.set_background(hapi.colour[\"white\"])\n\nwhile hapi.is_running:\n\n    if button1.update():  # if the button was clicked\n        bg_col = (255, 0, 0) if bg_col == (255, 255, 255) else (255, 255, 255)\n        hapi.set_background(bg_col)\n\n    # for i in range(5):\n    #     x = hapi.button(10+i*80, hapi.mouseY(), \"Click Me\",\n    #         grey_style\n    #     )\n    # don't use it for ui elements in loop lile the above\n    # each element can also be individually\n    # updated\n    hapi.update_ui()\n    hapi.event_loop()\n\n    hapi.flip_display()\n\n    clock.tick(60)\n\npygame.quit()"
      ]
    }
  ],
  "metadata": {
    "kernelspec": {
      "display_name": "Python 3",
      "language": "python",
      "name": "python3"
    },
    "language_info": {
      "codemirror_mode": {
        "name": "ipython",
        "version": 3
      },
      "file_extension": ".py",
      "mimetype": "text/x-python",
      "name": "python",
      "nbconvert_exporter": "python",
      "pygments_lexer": "ipython3",
      "version": "3.10.4"
    }
  },
  "nbformat": 4,
  "nbformat_minor": 0
}