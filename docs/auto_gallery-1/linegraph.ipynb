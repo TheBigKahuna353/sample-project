{
  "cells": [
    {
      "cell_type": "code",
      "execution_count": null,
      "metadata": {
        "collapsed": false
      },
      "outputs": [],
      "source": [
        "%matplotlib inline"
      ]
    },
    {
      "cell_type": "markdown",
      "metadata": {},
      "source": [
        "\nAuthor: Abdur-Rahmaan Janhangeer\nGithub: https://github.com/Abdur-rahmaanJ\n"
      ]
    },
    {
      "cell_type": "code",
      "execution_count": null,
      "metadata": {
        "collapsed": false
      },
      "outputs": [],
      "source": [
        "from hooman import Hooman\n\nwindow_width, window_height = 500, 500\nhapi = Hooman(window_width, window_height)\n\n\nmouse_x = {\n    \"label\": \"mouse x\",\n    \"color\": (0, 255, 0),\n    \"data\": [[1, 1]],\n    \"values_window\": 200,\n}\n\n\nmouse_y = {\n    \"label\": \"mouse y\",\n    \"color\": (255, 0, 0),\n    \"data\": [[1, 1]],\n    \"values_window\": 200,\n}\n\ntime_unit = 0\n\n\ndef max_data(data, index):\n    a = []\n    for d in data:\n        a.append(d[index])\n\n    return max(a)\n\n\nwhile hapi.is_running:\n    bg_col = (255, 255, 255)\n    hapi.background(255)\n\n    max_range_y = max([max_data(mouse_y[\"data\"], 1), max_data(mouse_x[\"data\"], 1)])\n\n    hapi.linechart(\n        40,\n        30,\n        300,\n        400,\n        {\n            \"lines\": [mouse_x, mouse_y],\n            \"mouse_line\": False,\n            \"range_y\": [0, max_range_y],\n            \"range_x\": [0, max_data(mouse_x[\"data\"], 0)],\n            \"show_axes\": False,\n            \"tick_size\": 10,\n            \"show_ticks_x\": False,\n            \"show_ticks_y\": False,\n            \"x_axis_label\": \"mouse position\",\n            \"y_axis_label\": \"unit time\",\n        },\n    )\n    hapi.fill(hapi.color[\"blue\"])\n\n    mouse_x[\"data\"].append([time_unit, hapi.mouseX()])\n    mouse_y[\"data\"].append([time_unit, hapi.mouseY()])\n\n    time_unit += 1\n    hapi.flip_display()\n    hapi.event_loop()"
      ]
    }
  ],
  "metadata": {
    "kernelspec": {
      "display_name": "Python 3",
      "language": "python",
      "name": "python3"
    },
    "language_info": {
      "codemirror_mode": {
        "name": "ipython",
        "version": 3
      },
      "file_extension": ".py",
      "mimetype": "text/x-python",
      "name": "python",
      "nbconvert_exporter": "python",
      "pygments_lexer": "ipython3",
      "version": "3.10.4"
    }
  },
  "nbformat": 4,
  "nbformat_minor": 0
}