{
  "cells": [
    {
      "cell_type": "code",
      "execution_count": null,
      "metadata": {
        "collapsed": false
      },
      "outputs": [],
      "source": [
        "%matplotlib inline"
      ]
    },
    {
      "cell_type": "markdown",
      "metadata": {},
      "source": [
        "\nAuthor: https://github.com/TheBigKahuna353\n"
      ]
    },
    {
      "cell_type": "code",
      "execution_count": null,
      "metadata": {
        "collapsed": false
      },
      "outputs": [],
      "source": [
        "from hooman import Hooman\n\nimport pygame\n\nwindow_width, window_height = 500, 500\nhapi = Hooman(window_width, window_height)\n\nbg_col = (100, 100, 255)\n\n\nwhile hapi.is_running:\n    hapi.background(bg_col)\n\n    hapi.gradient_rect(10, 10, 210, 100, hapi.color[\"black\"], hapi.color[\"white\"])\n\n    hapi.gradient_rect(230, 10, 210, 100, hapi.color[\"green\"], hapi.color[\"blue\"])\n\n    hapi.gradient_rect(10, 120, 100, 200, hapi.color[\"black\"], hapi.color[\"yellow\"], 1)\n\n    hapi.gradient_rect(120, 120, 100, 200, hapi.color[\"red\"], hapi.color[\"white\"], 1)\n\n    hapi.gradient_rect(340, 120, 100, 200, hapi.color[\"red\"], hapi.color[\"blue\"])\n\n    hapi.gradient_rect(230, 120, 100, 200, hapi.color[\"yellow\"], hapi.color[\"green\"])\n\n    hapi.flip_display()\n    hapi.event_loop()\n\npygame.quit()"
      ]
    }
  ],
  "metadata": {
    "kernelspec": {
      "display_name": "Python 3",
      "language": "python",
      "name": "python3"
    },
    "language_info": {
      "codemirror_mode": {
        "name": "ipython",
        "version": 3
      },
      "file_extension": ".py",
      "mimetype": "text/x-python",
      "name": "python",
      "nbconvert_exporter": "python",
      "pygments_lexer": "ipython3",
      "version": "3.10.4"
    }
  },
  "nbformat": 4,
  "nbformat_minor": 0
}