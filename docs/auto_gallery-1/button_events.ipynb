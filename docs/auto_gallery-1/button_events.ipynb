{
  "cells": [
    {
      "cell_type": "code",
      "execution_count": null,
      "metadata": {
        "collapsed": false
      },
      "outputs": [],
      "source": [
        "%matplotlib inline"
      ]
    },
    {
      "cell_type": "markdown",
      "metadata": {},
      "source": [
        "\nAuthor: https://github.com/TheBigKahuna353\n"
      ]
    },
    {
      "cell_type": "code",
      "execution_count": null,
      "metadata": {
        "collapsed": false
      },
      "outputs": [],
      "source": [
        "from hooman import Hooman  # imports local not from\n\nimport pygame\n\nwindow_width, window_height = 500, 500\nhapi = Hooman(window_width, window_height)\n\nbg_col = (255, 255, 255)\n\n# the function that gets called when the button is clicked on\n\n\ndef button_clicked(this):\n    if this.y == 250:\n        this.y = 300\n    else:\n        this.y = 250\n    this.background_color = hapi.color[\"blue\"]\n\n\ndef button_enter(this):\n    # hapi.rect(this.x + this.w, 250, 100, 20)\n    this.curve = 0.5\n    # hapi.background(hapi.color['green'])\n    global bg_col\n    bg_col = hapi.color[\"green\"]\n    this.create_button()\n\n\ndef button_exit(this):\n    # hapi.rect(this.x + this.w, 250, 100, 20)\n    this.curve = 0.1\n    # hapi.background(hapi.color['green'])\n    global bg_col\n    bg_col = hapi.color[\"white\"]\n    this.create_button()\n\n\ngrey_style = {\n    \"background_color\": (200, 200, 200),\n    \"hover_background_color\": (220, 220, 220),\n    \"curve\": 1,\n    \"padding_x\": 5,\n    \"padding_y\": 5,\n    \"font_size\": 15,\n    \"on_click\": button_clicked,\n    \"on_enter\": button_enter,\n    \"on_exit\": button_exit,\n}\n\n\nbutton2 = hapi.button(150, 250, 0, 0, \"No Click Me\", grey_style)\n\n\ndef handle_events(event):\n    if event.type == pygame.QUIT:\n        hapi.is_running = False\n    if event.type == pygame.KEYDOWN:\n        if event.key == pygame.K_ESCAPE:\n            hapi.is_running = False\n\n\nhapi.handle_events = handle_events\n\nclock = pygame.time.Clock()\n\nwhile hapi.is_running:\n    hapi.background(bg_col)\n\n    hapi.update_ui()\n    hapi.event_loop()\n\n    hapi.flip_display()\n\n    clock.tick(60)\n\npygame.quit()"
      ]
    }
  ],
  "metadata": {
    "kernelspec": {
      "display_name": "Python 3",
      "language": "python",
      "name": "python3"
    },
    "language_info": {
      "codemirror_mode": {
        "name": "ipython",
        "version": 3
      },
      "file_extension": ".py",
      "mimetype": "text/x-python",
      "name": "python",
      "nbconvert_exporter": "python",
      "pygments_lexer": "ipython3",
      "version": "3.10.4"
    }
  },
  "nbformat": 4,
  "nbformat_minor": 0
}