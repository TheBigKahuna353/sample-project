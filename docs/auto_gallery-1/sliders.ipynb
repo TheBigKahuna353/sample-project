{
  "cells": [
    {
      "cell_type": "code",
      "execution_count": null,
      "metadata": {
        "collapsed": false
      },
      "outputs": [],
      "source": [
        "%matplotlib inline"
      ]
    },
    {
      "cell_type": "markdown",
      "metadata": {},
      "source": [
        "\nAuthor: https://github.com/TheBigKahuna353\n"
      ]
    },
    {
      "cell_type": "code",
      "execution_count": null,
      "metadata": {
        "collapsed": false
      },
      "outputs": [],
      "source": [
        "from hooman import Hooman\n\nimport pygame\n\nwindow_width, window_height = 500, 500\nhapi = Hooman(window_width, window_height)\n\nbg_col = (255, 255, 255)\n\nslider_options = {\n    \"background_color\": hapi.color[\"grey\"],\n    \"slider_color\": (220, 220, 220),\n}\n\nreal_slider = hapi.slider(50, 300, 400, 30, slider_options)\n\nslider_2 = hapi.slider(50, 250, 100, 30, slider_options)\n\n\ndef handle_events(event):\n    if event.type == pygame.QUIT:\n        hapi.is_running = False\n    if event.type == pygame.KEYDOWN:\n        if event.key == pygame.K_ESCAPE:\n            hapi.is_running = False\n\n\nhapi.handle_events = handle_events\n\n\nwhile hapi.is_running:\n    hapi.background(bg_col)\n\n    hapi.fill(int(real_slider.value() * 255))\n    hapi.rect(10, 10, 100, 100)\n\n    real_slider.update()\n    slider_2.set_value(real_slider.value())\n    slider_2.update()\n    real_slider.set_value(slider_2.value())\n\n    hapi.flip_display()\n    hapi.event_loop()\n\npygame.quit()"
      ]
    }
  ],
  "metadata": {
    "kernelspec": {
      "display_name": "Python 3",
      "language": "python",
      "name": "python3"
    },
    "language_info": {
      "codemirror_mode": {
        "name": "ipython",
        "version": 3
      },
      "file_extension": ".py",
      "mimetype": "text/x-python",
      "name": "python",
      "nbconvert_exporter": "python",
      "pygments_lexer": "ipython3",
      "version": "3.10.4"
    }
  },
  "nbformat": 4,
  "nbformat_minor": 0
}