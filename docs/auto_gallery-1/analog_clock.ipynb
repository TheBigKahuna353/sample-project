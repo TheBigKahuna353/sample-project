{
  "cells": [
    {
      "cell_type": "code",
      "execution_count": null,
      "metadata": {
        "collapsed": false
      },
      "outputs": [],
      "source": [
        "%matplotlib inline"
      ]
    },
    {
      "cell_type": "markdown",
      "metadata": {},
      "source": [
        "\nAuthor: Abdur-Rahmaan Janhangeer\nGithub: https://github.com/Abdur-rahmaanJ\n"
      ]
    },
    {
      "cell_type": "code",
      "execution_count": null,
      "metadata": {
        "collapsed": false
      },
      "outputs": [],
      "source": [
        "from hooman import Hooman\nimport numpy\nfrom math import pow\nfrom math import sqrt\nimport pygame\n\nwindow_width, window_height = 500, 500\nhapi = Hooman(window_width, window_height)\n\n\nr_slider = hapi.slider(50, 330, 400, 10, {\"value_range\": [0, 100]})\n\noffsetx = 200\noffsety = 200\n\nwhile hapi.is_running:\n    bg_col = (255, 255, 255)\n    hapi.background(bg_col)\n\n    hapi.fill(hapi.color[\"red\"])\n    hapi.stroke(hapi.color[\"black\"])\n\n    hapi.text(\"r value: {}\".format(r_slider.value()), 50, 330 - 15)\n\n    for i in range(13):\n        x = (\n            offsetx\n            + hapi.cos(hapi.constrain(i, 0, 12, 0, hapi.PI * 2) - hapi.PI * 0.5)\n            * r_slider.value()\n        )\n        y = (\n            offsety\n            + hapi.sin(hapi.constrain(i, 0, 12, 0, hapi.PI * 2) - hapi.PI * 0.5)\n            * r_slider.value()\n        )\n        if i != 0:\n            hapi.text(i, x, y)\n\n    # - hapi.PI*0.5 to put display in place\n    pointxh = offsetx + hapi.cos(\n        hapi.constrain(hapi.hour(), 0, 12, 0, hapi.PI * 2) - hapi.PI * 0.5\n    ) * (r_slider.value() - 40)\n    pointyh = offsetx + hapi.sin(\n        hapi.constrain(hapi.hour(), 0, 12, 0, hapi.PI * 2) - hapi.PI * 0.5\n    ) * (r_slider.value() - 40)\n\n    pointxm = offsetx + hapi.cos(\n        hapi.constrain(hapi.minute(), 0, 60, 0, hapi.PI * 2) - hapi.PI * 0.5\n    ) * (r_slider.value() - 30)\n    pointym = offsetx + hapi.sin(\n        hapi.constrain(hapi.minute(), 0, 60, 0, hapi.PI * 2) - hapi.PI * 0.5\n    ) * (r_slider.value() - 30)\n\n    pointxs = offsetx + hapi.cos(\n        hapi.constrain(hapi.second(), 0, 60, 0, hapi.PI * 2) - hapi.PI * 0.5\n    ) * (r_slider.value() - 20)\n    pointys = offsetx + hapi.sin(\n        hapi.constrain(hapi.second(), 0, 60, 0, hapi.PI * 2) - hapi.PI * 0.5\n    ) * (r_slider.value() - 20)\n\n    hapi.stroke_size(5)\n    hapi.line(offsetx, offsety, pointxh, pointyh)\n    hapi.stroke_size(4)\n    hapi.line(offsetx, offsety, pointxm, pointym)\n    hapi.stroke_size(2)\n    hapi.line(offsetx, offsety, pointxs, pointys)\n\n    r_slider.update()\n    hapi.flip_display()\n    hapi.event_loop()\n\npygame.quit()"
      ]
    }
  ],
  "metadata": {
    "kernelspec": {
      "display_name": "Python 3",
      "language": "python",
      "name": "python3"
    },
    "language_info": {
      "codemirror_mode": {
        "name": "ipython",
        "version": 3
      },
      "file_extension": ".py",
      "mimetype": "text/x-python",
      "name": "python",
      "nbconvert_exporter": "python",
      "pygments_lexer": "ipython3",
      "version": "3.10.4"
    }
  },
  "nbformat": 4,
  "nbformat_minor": 0
}