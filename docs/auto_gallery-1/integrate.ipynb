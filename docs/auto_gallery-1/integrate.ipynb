{
  "cells": [
    {
      "cell_type": "code",
      "execution_count": null,
      "metadata": {
        "collapsed": false
      },
      "outputs": [],
      "source": [
        "%matplotlib inline"
      ]
    },
    {
      "cell_type": "markdown",
      "metadata": {},
      "source": [
        "\nAuthor: Abdur-Rahmaan Janhangeer\nGithub: https://github.com/Abdur-rahmaanJ\n"
      ]
    },
    {
      "cell_type": "code",
      "execution_count": null,
      "metadata": {
        "collapsed": false
      },
      "outputs": [],
      "source": [
        "# from https://pythonguides.com/create-a-game-using-python-pygame/\n# Hooman >= 0.8.2\n\nimport pygame\n\n\nfrom hooman import Hooman # <-- this\n\n\nblack = (0, 0, 0)\nwhite = (255, 255, 255)\n\nred = (255, 0, 0)\nWIDTH = 20\nHEIGHT = 20\nMARGIN = 5\ngrid = []\nfor row in range(10):\n    grid.append([])\n    for column in range(10):\n        grid[row].append(0) \ngrid[1][5] = 1\npygame.init()\nwindow_size = [255, 255]\nscr = pygame.display.set_mode(window_size)\nhapi = Hooman(integrate=True, screen=scr) # <-- this\npygame.display.set_caption(\"Grid\")\ndone = False\nclock = pygame.time.Clock()\nwhile not done:\n    for event in pygame.event.get(): \n        if event.type == pygame.QUIT: \n            done = True \n        elif event.type == pygame.MOUSEBUTTONDOWN:\n            pos = pygame.mouse.get_pos()\n            column = pos[0] // (WIDTH + MARGIN)\n            row = pos[1] // (HEIGHT + MARGIN)\n            grid[row][column] = 1\n            print(\"Click \", pos, \"Grid coordinates: \", row, column)\n    scr.fill(black)\n    for row in range(10):\n        for column in range(10):\n            color = white\n            if grid[row][column] == 1:\n                color = red\n            pygame.draw.rect(scr,\n                             color,\n                             [(MARGIN + WIDTH) * column + MARGIN,\n                              (MARGIN + HEIGHT) * row + MARGIN,\n                              WIDTH,\n                              HEIGHT])\n    clock.tick(50)\n    pygame.display.flip()\n    hapi.record() # <-- this\npygame.quit()\nhapi.save_record('testmov.mp4') # <-- this"
      ]
    }
  ],
  "metadata": {
    "kernelspec": {
      "display_name": "Python 3",
      "language": "python",
      "name": "python3"
    },
    "language_info": {
      "codemirror_mode": {
        "name": "ipython",
        "version": 3
      },
      "file_extension": ".py",
      "mimetype": "text/x-python",
      "name": "python",
      "nbconvert_exporter": "python",
      "pygments_lexer": "ipython3",
      "version": "3.10.4"
    }
  },
  "nbformat": 4,
  "nbformat_minor": 0
}