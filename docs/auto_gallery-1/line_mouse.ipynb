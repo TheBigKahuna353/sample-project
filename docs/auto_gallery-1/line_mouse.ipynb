{
  "cells": [
    {
      "cell_type": "code",
      "execution_count": null,
      "metadata": {
        "collapsed": false
      },
      "outputs": [],
      "source": [
        "%matplotlib inline"
      ]
    },
    {
      "cell_type": "markdown",
      "metadata": {},
      "source": [
        "\nAuthor: Abdur-Rahmaan Janhangeer\nGithub: https://github.com/Abdur-rahmaanJ\n"
      ]
    },
    {
      "cell_type": "code",
      "execution_count": null,
      "metadata": {
        "collapsed": false
      },
      "outputs": [],
      "source": [
        "from hooman import Hooman\n\nimport pygame\n\nhapi = Hooman(500, 500)\n\n\ndef handle_events(event):\n    if event.type == pygame.QUIT:\n        hapi.is_running = False\n\n\nhapi.handle_events = handle_events\n\nwhile hapi.is_running:\n    hapi.background((255, 255, 255))\n\n    hapi.stroke_size(5)\n    hapi.stroke((0, 255, 0))\n\n    for i in range(0, hapi.WIDTH, 20):\n        hapi.line(i, 0, hapi.mouseX(), hapi.mouseY())\n\n    hapi.flip_display()\n    hapi.event_loop()\n\npygame.quit()"
      ]
    }
  ],
  "metadata": {
    "kernelspec": {
      "display_name": "Python 3",
      "language": "python",
      "name": "python3"
    },
    "language_info": {
      "codemirror_mode": {
        "name": "ipython",
        "version": 3
      },
      "file_extension": ".py",
      "mimetype": "text/x-python",
      "name": "python",
      "nbconvert_exporter": "python",
      "pygments_lexer": "ipython3",
      "version": "3.10.4"
    }
  },
  "nbformat": 4,
  "nbformat_minor": 0
}