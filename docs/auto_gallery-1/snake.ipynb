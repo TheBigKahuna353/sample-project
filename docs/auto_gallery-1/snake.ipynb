{
  "cells": [
    {
      "cell_type": "code",
      "execution_count": null,
      "metadata": {
        "collapsed": false
      },
      "outputs": [],
      "source": [
        "%matplotlib inline"
      ]
    },
    {
      "cell_type": "markdown",
      "metadata": {},
      "source": [
        "\nAuthor: https://github.com/TheBigKahuna353\n"
      ]
    },
    {
      "cell_type": "code",
      "execution_count": null,
      "metadata": {
        "collapsed": false
      },
      "outputs": [],
      "source": [
        "import hooman\nimport random\nimport pygame\n\nWIDTH, HEIGHT = 600, 600\n\nhapi = hooman.Hooman(WIDTH, HEIGHT)\n\nbtn_style = {\n    \"outline\": True,\n    \"background_color\": (255, 0, 0),\n    \"curve\": 0.7,\n    \"hover_outline_thickness\": 3,\n}\n\nslider_style = {\n    \"background_color\": (200, 200, 200),\n    \"slider_height\": 60,\n    \"slider_color\": (240, 240, 240),\n}\n\n\nclass Game:\n    def __init__(self):\n        self.current_screen = self.Main_menu\n        hapi.handle_events = self.Events\n\n        self.menu_btn_start = hapi.button(200, 200, 200, 50, \"Start\", btn_style)\n        self.menu_btn_quit = hapi.button(200, 400, 200, 50, \"Quit\", btn_style)\n        self.settings_btn = hapi.button(200, 300, 200, 50, \"Settings\", btn_style)\n\n        slider_style.update({\"range\": [5, 30], \"step\": 1, \"starting_value\": 20})\n        self.rows_slider = hapi.slider(300, 200, 200, 30, slider_style)\n        self.rows_slider = hapi.slider_with_text(self.rows_slider)\n\n        slider_style.update(\n            {\"range\": [0.01, 1], \"step\": 0, \"starting_value\": 0.1}\n        )\n        self.speed_slider = hapi.slider(300, 300, 200, 30, slider_style)\n        self.speed_slider = hapi.slider_with_text(self.speed_slider, {\"accuracy\": 2})\n        self.slider_names = [\"num of rows\", \"speed\"]\n        self.back_btn = hapi.button(200, 400, 200, 50, \"Back\", btn_style)\n\n        self.size = WIDTH // self.rows_slider.value()\n\n        self.start_pos = 5, 5\n        self.head = [x * self.size for x in self.start_pos]\n        self.body = []\n        self.food_pos = [\n            random.randint(0, WIDTH) // self.size * self.size for x in range(2)\n        ]\n        self.direction = [0, 0]\n        self.move = hapi.timer(seconds=self.speed_slider.value())\n\n    def Start(self):\n        while hapi.is_running:\n            self.current_screen()\n\n            hapi.flip_display()\n            hapi.event_loop()\n\n    def Main(self):\n        hapi.background(hapi.color[\"black\"])\n        hapi.fill(hapi.color[\"yellow\"])\n        hapi.rect(self.head[0] + 1, self.head[1] + 1, self.size - 2, self.size - 2)\n        for x, y in self.body:\n            hapi.rect(x + 1, y + 1, self.size - 2, self.size - 2)\n        if self.move:\n            for i in range(len(self.body) - 1, 0, -1):\n                self.body[i] = self.body[i - 1]\n            if len(self.body) > 0:\n                self.body[0] = self.head\n            self.head = [self.head[i] + self.direction[i] for i in range(2)]\n            self.move = hapi.timer(seconds=self.speed_slider.value())\n            if self.head in self.body:\n                self.Died()\n            elif (\n                self.head[0] >= WIDTH\n                or self.head[0] < 0\n                or self.head[1] < 0\n                or self.head[1] >= HEIGHT\n            ):\n                self.Died()\n            if self.head == self.food_pos:\n                self.body.append(self.head[:])\n                self.food_pos = [\n                    random.randint(0, WIDTH) // self.size * self.size for x in range(2)\n                ]\n        hapi.fill(hapi.color[\"green\"])\n        hapi.rect(self.food_pos[0], self.food_pos[1], self.size - 1, self.size - 1)\n\n    def Died(self):\n        self.head = [x * self.size for x in self.start_pos]\n        self.body = []\n        self.food_pos = [\n            random.randint(0, WIDTH) // self.size * self.size for x in range(2)\n        ]\n        self.direction = [0, 0]\n        self.current_screen = self.Main_menu\n\n    def Settings(self):\n        hapi.background(hapi.color[\"white\"])\n        self.speed_slider.update()\n        self.rows_slider.update()\n        hapi.fill(hapi.color[\"black\"])\n        hapi.font_size(30)\n        hapi.text(self.slider_names[0], 100, 200)\n        hapi.text(self.slider_names[1], 100, 300)\n        if self.back_btn.update():\n            self.current_screen = self.Main_menu\n\n    def Main_menu(self):\n        hapi.background(hapi.color[\"white\"])\n        hapi.fill(hapi.color[\"black\"])\n        hapi.font_size(50)\n        hapi.text(\"Snake\", 220, 30)\n        if self.menu_btn_quit.update():\n            hapi.is_running = False\n        if self.menu_btn_start.update():\n            self.current_screen = self.Main\n        if self.settings_btn.update():\n            self.current_screen = self.Settings\n\n    def Events(self, event):\n        if event.type == pygame.QUIT:\n            hapi.is_running = False\n        elif event.type == pygame.KEYDOWN:\n            if event.unicode == \"a\" or event.key == 276:\n                self.direction = [-self.size, 0]\n            elif event.unicode == \"d\" or event.key == 275:\n                self.direction = [self.size, 0]\n            elif event.unicode == \"w\" or event.key == 273:\n                self.direction = [0, -self.size]\n            elif event.unicode == \"s\" or event.key == 274:\n                self.direction = [0, self.size]\n\n\nif __name__ == \"__main__\":\n    game = Game()\n    game.Start()"
      ]
    }
  ],
  "metadata": {
    "kernelspec": {
      "display_name": "Python 3",
      "language": "python",
      "name": "python3"
    },
    "language_info": {
      "codemirror_mode": {
        "name": "ipython",
        "version": 3
      },
      "file_extension": ".py",
      "mimetype": "text/x-python",
      "name": "python",
      "nbconvert_exporter": "python",
      "pygments_lexer": "ipython3",
      "version": "3.10.4"
    }
  },
  "nbformat": 4,
  "nbformat_minor": 0
}