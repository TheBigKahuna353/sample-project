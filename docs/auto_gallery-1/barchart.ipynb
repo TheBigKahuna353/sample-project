{
  "cells": [
    {
      "cell_type": "code",
      "execution_count": null,
      "metadata": {
        "collapsed": false
      },
      "outputs": [],
      "source": [
        "%matplotlib inline"
      ]
    },
    {
      "cell_type": "markdown",
      "metadata": {},
      "source": [
        "\nAuthor: Abdur-Rahmaan Janhangeer\nGithub: https://github.com/Abdur-rahmaanJ\n"
      ]
    },
    {
      "cell_type": "code",
      "execution_count": null,
      "metadata": {
        "collapsed": false
      },
      "outputs": [],
      "source": [
        "from hooman import Hooman\n\n\nwindow_width, window_height = 500, 500\nhapi = Hooman(window_width, window_height)\n\n\nwhile hapi.is_running:\n    bg_col = (255, 255, 255)\n    hapi.background(bg_col)\n\n    hapi.barchart(\n        30, 30, 200, 200, {\"data\": {\"a\": 10, \"b\": 20, \"c\": 90}, \"mouse_line\": True}\n    )\n    # hapi.text(hapi.mouseX(), 200, 200)\n    hapi.flip_display()\n    hapi.event_loop()"
      ]
    }
  ],
  "metadata": {
    "kernelspec": {
      "display_name": "Python 3",
      "language": "python",
      "name": "python3"
    },
    "language_info": {
      "codemirror_mode": {
        "name": "ipython",
        "version": 3
      },
      "file_extension": ".py",
      "mimetype": "text/x-python",
      "name": "python",
      "nbconvert_exporter": "python",
      "pygments_lexer": "ipython3",
      "version": "3.10.4"
    }
  },
  "nbformat": 4,
  "nbformat_minor": 0
}