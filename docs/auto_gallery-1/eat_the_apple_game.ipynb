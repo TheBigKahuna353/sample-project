{
  "cells": [
    {
      "cell_type": "code",
      "execution_count": null,
      "metadata": {
        "collapsed": false
      },
      "outputs": [],
      "source": [
        "%matplotlib inline"
      ]
    },
    {
      "cell_type": "markdown",
      "metadata": {},
      "source": [
        "\nAuthor: Maxime Coene\nGithub: https://github.com/macoene\n"
      ]
    },
    {
      "cell_type": "code",
      "execution_count": null,
      "metadata": {
        "collapsed": false
      },
      "outputs": [],
      "source": [
        "from hooman import Hooman\n\nimport pygame\nimport random\n\nhapi = Hooman(500, 500)\n\n\ndef handle_events(event):\n    if event.type == pygame.QUIT:\n        hapi.is_running = False\n\n\nhapi.handle_events = handle_events\n\napple = (random.randint(10, (hapi.WIDTH - 10)), random.randint(10, (hapi.HEIGHT - 10)))\nscore = 0\n\nwhile hapi.is_running:\n    hapi.background((50, 50, 50))\n\n    hapi.no_stroke()\n    mx = (hapi.mouseX() / hapi.WIDTH) * 255\n\n    if hapi.mouseX() < (apple[0] - 24):\n        hapi.fill(hapi.color[\"green\"])\n        hapi.ellipse((hapi.mouseX() - 15), (hapi.mouseY() - 25), 50, 50)\n\n    if hapi.mouseX() > (apple[0] + 24):\n        hapi.fill(hapi.color[\"green\"])\n        hapi.ellipse((hapi.mouseX() - 35), (hapi.mouseY() - 25), 50, 50)\n\n    if hapi.mouseY() < (apple[1] - 24):\n        hapi.fill(hapi.color[\"green\"])\n        hapi.ellipse((hapi.mouseX() - 25), (hapi.mouseY() - 15), 50, 50)\n\n    if hapi.mouseY() > (apple[1] + 24):\n        hapi.fill(hapi.color[\"green\"])\n        hapi.ellipse((hapi.mouseX() - 25), (hapi.mouseY() - 35), 50, 50)\n\n    hapi.fill((255, 255, 255))\n    hapi.ellipse((hapi.mouseX() - 25), (hapi.mouseY() - 25), 50, 50)\n\n    hapi.fill(hapi.color[\"red\"])\n    hapi.font_size(30)\n    hapi.text(score, 5, 5)\n\n    if (\n        (hapi.mouseX() < (apple[0] + 24))\n        and (hapi.mouseX() > (apple[0] - 24))\n        and (hapi.mouseY() < (apple[1] + 24))\n        and (hapi.mouseY() > (apple[1] - 24))\n    ):\n        hapi.fill(hapi.color[\"red\"])\n        hapi.ellipse((apple[0] - 5), (apple[1] - 5), 10, 10)\n\n    if (\n        (hapi.mouseX() < (apple[0] + 9))\n        and (hapi.mouseX() > (apple[0] - 9))\n        and (hapi.mouseY() < (apple[1] + 9))\n        and (hapi.mouseY() > (apple[1] - 9))\n    ):\n        apple = (\n            random.randint(10, (hapi.WIDTH - 10)),\n            random.randint(10, (hapi.HEIGHT - 10)),\n        )\n        score += 1\n\n    hapi.flip_display()\n    hapi.event_loop()\n\npygame.quit()"
      ]
    }
  ],
  "metadata": {
    "kernelspec": {
      "display_name": "Python 3",
      "language": "python",
      "name": "python3"
    },
    "language_info": {
      "codemirror_mode": {
        "name": "ipython",
        "version": 3
      },
      "file_extension": ".py",
      "mimetype": "text/x-python",
      "name": "python",
      "nbconvert_exporter": "python",
      "pygments_lexer": "ipython3",
      "version": "3.10.4"
    }
  },
  "nbformat": 4,
  "nbformat_minor": 0
}