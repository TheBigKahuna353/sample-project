{
  "cells": [
    {
      "cell_type": "code",
      "execution_count": null,
      "metadata": {
        "collapsed": false
      },
      "outputs": [],
      "source": [
        "%matplotlib inline"
      ]
    },
    {
      "cell_type": "markdown",
      "metadata": {},
      "source": [
        "\nAuthor: Abdur-Rahmaan Janhangeer\nGithub: https://github.com/Abdur-rahmaanJ\n"
      ]
    },
    {
      "cell_type": "code",
      "execution_count": null,
      "metadata": {
        "collapsed": false
      },
      "outputs": [],
      "source": [
        "# https://github.com/mwaskom/seaborn-data/blob/master/penguins.csv\n\nfrom hooman import Hooman\nimport pandas as pd\nimport os\n\nwindow_width, window_height = 650, 600\nhapi = Hooman(window_width, window_height)\n\n\nbase_path = os.path.dirname(os.path.abspath(__file__))\ndf = pd.read_csv(os.path.join(base_path, \"data\", \"penguins.csv\"))\ndf = df.fillna(0)\n\ndata = {k: list(df[k]) for k in df.columns.values.tolist()}\n\nhapi.background(255)\n\ncolx = \"bill_length_mm\"\ncoly = \"bill_depth_mm\"\n\nhapi.scatterchart(\n    40,\n    30,\n    500,\n    500,\n    {\n        \"data\": data,\n        \"ticks_y\": 12,\n        \"ticks_x\": 12,\n        \"range_y\": [min(data[coly]), max(data[coly])],\n        \"range_x\": [min(data[colx]), max(data[colx])],\n        \"show_axes\": True,\n        \"tick_size\": 10,\n        \"show_ticks_x\": True,\n        \"show_ticks_y\": True,\n        \"x\": colx,\n        \"y\": coly,\n        \"plot_background\": False,\n        \"plot_grid\": False,\n        \"line_color\": 200,\n        \"type\": \"hist\",\n        \"hist_color\": \"g\",\n    },\n)\n\nwhile hapi.is_running:\n    bg_col = (255, 255, 255)\n\n    hapi.flip_display()\n    hapi.event_loop()"
      ]
    }
  ],
  "metadata": {
    "kernelspec": {
      "display_name": "Python 3",
      "language": "python",
      "name": "python3"
    },
    "language_info": {
      "codemirror_mode": {
        "name": "ipython",
        "version": 3
      },
      "file_extension": ".py",
      "mimetype": "text/x-python",
      "name": "python",
      "nbconvert_exporter": "python",
      "pygments_lexer": "ipython3",
      "version": "3.10.4"
    }
  },
  "nbformat": 4,
  "nbformat_minor": 0
}