{
  "cells": [
    {
      "cell_type": "code",
      "execution_count": null,
      "metadata": {
        "collapsed": false
      },
      "outputs": [],
      "source": [
        "%matplotlib inline"
      ]
    },
    {
      "cell_type": "markdown",
      "metadata": {},
      "source": [
        "\nAuthor: https://github.com/TheBigKahuna353\n"
      ]
    },
    {
      "cell_type": "code",
      "execution_count": null,
      "metadata": {
        "collapsed": false
      },
      "outputs": [],
      "source": [
        "from hooman import Hooman\n\nimport pygame\n\nwindow_width, window_height = 500, 500\nhapi = Hooman(window_width, window_height)\n\nred_blue = hapi.gradient(300, 30, hapi.color[\"blue\"], hapi.color[\"red\"]).convert()\n\ngreen_blue = hapi.gradient(300, 30, hapi.color[\"green\"], hapi.color[\"blue\"]).convert()\n\nyellow_black = hapi.gradient(\n    300, 30, hapi.color[\"yellow\"], hapi.color[\"black\"]\n).convert()\n\nblack_white = hapi.gradient(300, 30, hapi.color[\"black\"], hapi.color[\"white\"]).convert()\n\nslider = hapi.slider(\n    100, 300, 300, 30, {\"image\": red_blue, \"slider_height\": 60, \"range\": [0, 255]}\n)\n\ncolor_slider = hapi.slider(\n    150,\n    400,\n    200,\n    20,\n    {\"slider_height\": 40, \"range\": [0, 3], \"step\": 1, \"starting_value\": 0},\n)\n\n\ndef handle_events(event):\n    if event.type == pygame.QUIT:\n        hapi.is_running = False\n    if event.type == pygame.KEYDOWN:\n        if event.key == pygame.K_ESCAPE:\n            hapi.is_running = False\n\n\nhapi.handle_events = handle_events\n\nclock = pygame.time.Clock()\n\nwhile hapi.is_running:\n    if color_slider.value() == 0:\n        hapi.background((slider.value(), 0, 255 - slider.value()))\n        slider.image = red_blue\n    elif color_slider.value() == 1:\n        hapi.background((0, slider.value(), 255 - slider.value()))\n        slider.image = green_blue\n    elif color_slider.value() == 2:\n        hapi.background((255 - slider.value(), 255 - slider.value(), 0))\n        slider.image = yellow_black\n    elif color_slider.value() == 3:\n        hapi.background(slider.value())\n        slider.image = black_white\n\n    slider.update()\n    color_slider.update()\n\n    hapi.event_loop()\n\n    hapi.flip_display()\n\n    clock.tick(60)\n\npygame.quit()"
      ]
    }
  ],
  "metadata": {
    "kernelspec": {
      "display_name": "Python 3",
      "language": "python",
      "name": "python3"
    },
    "language_info": {
      "codemirror_mode": {
        "name": "ipython",
        "version": 3
      },
      "file_extension": ".py",
      "mimetype": "text/x-python",
      "name": "python",
      "nbconvert_exporter": "python",
      "pygments_lexer": "ipython3",
      "version": "3.10.4"
    }
  },
  "nbformat": 4,
  "nbformat_minor": 0
}