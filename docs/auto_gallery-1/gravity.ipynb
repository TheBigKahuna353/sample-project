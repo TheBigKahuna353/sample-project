{
  "cells": [
    {
      "cell_type": "code",
      "execution_count": null,
      "metadata": {
        "collapsed": false
      },
      "outputs": [],
      "source": [
        "%matplotlib inline"
      ]
    },
    {
      "cell_type": "markdown",
      "metadata": {},
      "source": [
        "\nOriginal Author: https://github.com/jimmy-print\nEdit: https://github.com/Abdur-rahmaanJ\n"
      ]
    },
    {
      "cell_type": "code",
      "execution_count": null,
      "metadata": {
        "collapsed": false
      },
      "outputs": [],
      "source": [
        "from hooman import Hooman\n\nimport pygame\n\nwindow_width, window_height = 500, 500\nhapi = Hooman(window_width, window_height)\n\nrect_x, rect_y = 100, 100\nrect_w, rect_h = 100, 100\ndy = 0\ngravity_acceleration = 1\njump_strength = 20\n\n\ndef handle_events(event):\n    global dy\n    if event.type == pygame.QUIT:\n        hapi.is_running = False\n    if event.type == pygame.KEYDOWN:\n        if event.key == pygame.K_ESCAPE:\n            hapi.is_running = False\n        if event.key == pygame.K_SPACE:\n            dy = -jump_strength\n\n\nhapi.handle_events = handle_events\n\nclock = pygame.time.Clock()\n\nwhile hapi.is_running:\n    hapi.background((255, 255, 255))\n\n    hapi.event_loop()\n    dy += gravity_acceleration\n    rect_y += dy\n    if rect_y + rect_h >= window_height:\n        dy = 0\n        rect_y = window_height - rect_h\n\n    hapi.fill((0, 0, 0))\n    hapi.rect(rect_x, rect_y, rect_w, rect_h)\n\n    hapi.flip_display()\n\n    clock.tick(60)  # slows down gravity acceleration\n\npygame.quit()"
      ]
    }
  ],
  "metadata": {
    "kernelspec": {
      "display_name": "Python 3",
      "language": "python",
      "name": "python3"
    },
    "language_info": {
      "codemirror_mode": {
        "name": "ipython",
        "version": 3
      },
      "file_extension": ".py",
      "mimetype": "text/x-python",
      "name": "python",
      "nbconvert_exporter": "python",
      "pygments_lexer": "ipython3",
      "version": "3.10.4"
    }
  },
  "nbformat": 4,
  "nbformat_minor": 0
}