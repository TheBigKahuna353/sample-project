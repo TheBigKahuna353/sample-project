{
  "cells": [
    {
      "cell_type": "code",
      "execution_count": null,
      "metadata": {
        "collapsed": false
      },
      "outputs": [],
      "source": [
        "%matplotlib inline"
      ]
    },
    {
      "cell_type": "markdown",
      "metadata": {},
      "source": [
        "\nAuthor: https://github.com/TheBigKahuna353\n"
      ]
    },
    {
      "cell_type": "code",
      "execution_count": null,
      "metadata": {
        "collapsed": false
      },
      "outputs": [],
      "source": [
        "from hooman import Hooman\n\nimport pygame\n\nwindow_width, window_height = 500, 500\nhapi = Hooman(window_width, window_height)\n\nbg_col = (255, 255, 255)\n\ntext_box_options = {\"background_color\": hapi.color[\"light_grey\"], \"max_lines\": 3}\n\ntext_box = hapi.text_box(100, 100, 300, 40, text_box_options)\n\n\ndef handle_events(event):\n    if event.type == pygame.QUIT:\n        hapi.is_running = False\n    if event.type == pygame.KEYDOWN:\n        text_box.key_down(event)\n        if event.key == pygame.K_ESCAPE:\n            hapi.is_running = False\n\n\nhapi.handle_events = handle_events\n\nwhile hapi.is_running:\n    hapi.background(bg_col)\n\n    text_box.update()\n\n    hapi.flip_display()\n    hapi.event_loop()\n\npygame.quit()"
      ]
    }
  ],
  "metadata": {
    "kernelspec": {
      "display_name": "Python 3",
      "language": "python",
      "name": "python3"
    },
    "language_info": {
      "codemirror_mode": {
        "name": "ipython",
        "version": 3
      },
      "file_extension": ".py",
      "mimetype": "text/x-python",
      "name": "python",
      "nbconvert_exporter": "python",
      "pygments_lexer": "ipython3",
      "version": "3.10.4"
    }
  },
  "nbformat": 4,
  "nbformat_minor": 0
}