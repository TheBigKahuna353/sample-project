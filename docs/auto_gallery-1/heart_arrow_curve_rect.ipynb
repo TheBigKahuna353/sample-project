{
  "cells": [
    {
      "cell_type": "code",
      "execution_count": null,
      "metadata": {
        "collapsed": false
      },
      "outputs": [],
      "source": [
        "%matplotlib inline"
      ]
    },
    {
      "cell_type": "markdown",
      "metadata": {},
      "source": [
        "\nAuthor: https://github.com/TheBigKahuna353\n"
      ]
    },
    {
      "cell_type": "code",
      "execution_count": null,
      "metadata": {
        "collapsed": false
      },
      "outputs": [],
      "source": [
        "from hooman import Hooman\n\nimport pygame\n\nwindow_width, window_height = 500, 500\nhapi = Hooman(window_width, window_height)\n\nbg_col = (255, 255, 255)\n\n\ndef handle_events(event):\n    if event.type == pygame.QUIT:\n        hapi.is_running = False\n    if event.type == pygame.KEYDOWN:\n        if event.key == pygame.K_ESCAPE:\n            hapi.is_running = False\n\n\nhapi.handle_events = handle_events\n\nclock = pygame.time.Clock()\n\nwhile hapi.is_running:\n    hapi.background(bg_col)\n\n    hapi.rotate(hapi.mouseX())\n\n    hapi.fill(hapi.color[\"red\"])\n    hapi.heart(10, 200, hapi.mouseX() // 4, hapi.mouseY() // 4)\n\n    hapi.arrow(300, 200, hapi.mouseX(), hapi.mouseY() // 2)\n\n    hapi.curve_rect(10, 10, 200, 100, hapi.mouseY() // 5)\n\n    hapi.event_loop()\n\n    hapi.flip_display()\n\n    clock.tick(60)\n\npygame.quit()"
      ]
    }
  ],
  "metadata": {
    "kernelspec": {
      "display_name": "Python 3",
      "language": "python",
      "name": "python3"
    },
    "language_info": {
      "codemirror_mode": {
        "name": "ipython",
        "version": 3
      },
      "file_extension": ".py",
      "mimetype": "text/x-python",
      "name": "python",
      "nbconvert_exporter": "python",
      "pygments_lexer": "ipython3",
      "version": "3.10.4"
    }
  },
  "nbformat": 4,
  "nbformat_minor": 0
}