{
  "cells": [
    {
      "cell_type": "code",
      "execution_count": null,
      "metadata": {
        "collapsed": false
      },
      "outputs": [],
      "source": [
        "%matplotlib inline"
      ]
    },
    {
      "cell_type": "markdown",
      "metadata": {},
      "source": [
        "\nAuthor: Abdur-Rahmaan Janhangeer\nGithub: https://github.com/Abdur-rahmaanJ\n"
      ]
    },
    {
      "cell_type": "code",
      "execution_count": null,
      "metadata": {
        "collapsed": false
      },
      "outputs": [],
      "source": [
        "from hooman import Hooman\nimport numpy\nfrom math import pow\nfrom math import sqrt\nimport pygame\n\nwindow_width, window_height = 500, 500\nhapi = Hooman(window_width, window_height)\n\nbg_col = (255, 255, 255)\n\n\ndef handle_events(event):\n    if event.type == pygame.QUIT:\n        hapi.is_running = False\n    if event.type == pygame.KEYDOWN:\n        if event.key == pygame.K_ESCAPE:\n            hapi.is_running = False\n\n\nhapi.handle_events = handle_events\n\n\ndef fake_slider(pos, x, y, width):\n    size = 10\n    hapi.fill(hapi.color[\"grey\"])\n    hapi.rect(x, y, width, size)\n    hapi.fill((200, 200, 200))\n    hapi.rect(pos, y, size, size)\n\n\nwhile hapi.is_running:\n    hapi.background(bg_col)\n\n    fake_slider(hapi.mouseX(), 0, 450, hapi.WIDTH)\n\n    reflected_val = hapi.constrain(hapi.mouseX(), 0, 500, 0, 255)\n    reflected_col = (reflected_val, reflected_val, reflected_val)\n    hapi.fill(reflected_col)\n    hapi.rect(10, 10, 100, 100)\n\n    reflected_val2 = hapi.constrain(hapi.mouseX(), 0, 500, 100, 200)\n    fake_slider(reflected_val2, 100, 200, 100)\n\n    hapi.flip_display()\n    hapi.event_loop()\n\npygame.quit()"
      ]
    }
  ],
  "metadata": {
    "kernelspec": {
      "display_name": "Python 3",
      "language": "python",
      "name": "python3"
    },
    "language_info": {
      "codemirror_mode": {
        "name": "ipython",
        "version": 3
      },
      "file_extension": ".py",
      "mimetype": "text/x-python",
      "name": "python",
      "nbconvert_exporter": "python",
      "pygments_lexer": "ipython3",
      "version": "3.10.4"
    }
  },
  "nbformat": 4,
  "nbformat_minor": 0
}