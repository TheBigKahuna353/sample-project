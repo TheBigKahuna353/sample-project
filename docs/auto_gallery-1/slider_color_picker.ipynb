{
  "cells": [
    {
      "cell_type": "code",
      "execution_count": null,
      "metadata": {
        "collapsed": false
      },
      "outputs": [],
      "source": [
        "%matplotlib inline"
      ]
    },
    {
      "cell_type": "markdown",
      "metadata": {},
      "source": [
        "\nAuthor: https://github.com/TheBigKahuna353\n"
      ]
    },
    {
      "cell_type": "code",
      "execution_count": null,
      "metadata": {
        "collapsed": false
      },
      "outputs": [],
      "source": [
        "from hooman import Hooman\nimport numpy\nfrom math import pow\nfrom math import sqrt\nimport pygame\n\nwindow_width, window_height = 500, 500\nhapi = Hooman(window_width, window_height)\n\n\nslider_options = {\"range\": [0, 255]}\n\nr_slider = hapi.slider(50, 300, 400, 10, slider_options)\ng_slider = hapi.slider(50, 330, 400, 10, slider_options)\nb_slider = hapi.slider(50, 360, 400, 10, slider_options)\n\nwhile hapi.is_running:\n    bg_col = (r_slider.value(), g_slider.value(), b_slider.value())\n    hapi.background(bg_col)\n\n    hapi.fill(hapi.color[\"blue\"])\n    color_text = \"r:{} g:{} b:{}\".format(\n        r_slider.value(), g_slider.value(), b_slider.value()\n    )\n    hapi.text(color_text, 20, 20)\n    r_slider.update()\n    g_slider.update()\n    b_slider.update()\n    hapi.flip_display()\n    hapi.event_loop()\n\npygame.quit()"
      ]
    }
  ],
  "metadata": {
    "kernelspec": {
      "display_name": "Python 3",
      "language": "python",
      "name": "python3"
    },
    "language_info": {
      "codemirror_mode": {
        "name": "ipython",
        "version": 3
      },
      "file_extension": ".py",
      "mimetype": "text/x-python",
      "name": "python",
      "nbconvert_exporter": "python",
      "pygments_lexer": "ipython3",
      "version": "3.10.4"
    }
  },
  "nbformat": 4,
  "nbformat_minor": 0
}