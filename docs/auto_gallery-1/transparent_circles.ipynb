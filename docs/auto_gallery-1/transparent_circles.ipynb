{
  "cells": [
    {
      "cell_type": "code",
      "execution_count": null,
      "metadata": {
        "collapsed": false
      },
      "outputs": [],
      "source": [
        "%matplotlib inline"
      ]
    },
    {
      "cell_type": "markdown",
      "metadata": {},
      "source": [
        "\nAuthor: Abdur-Rahmaan Janhangeer\nGithub: https://github.com/Abdur-rahmaanJ\n"
      ]
    },
    {
      "cell_type": "code",
      "execution_count": null,
      "metadata": {
        "collapsed": false
      },
      "outputs": [],
      "source": [
        "import pygame\nfrom hooman import Hooman\n\npygame.init()\n\nhapi = Hooman(800, 600)\n\n\nwhile hapi.is_running:\n    hapi.background(hapi.color[\"white\"])\n\n    hapi.set_alpha(100)\n    hapi.fill(hapi.color[\"red\"])\n    hapi.alpha_ellipse(100, 100, hapi.mouseX() // 2, hapi.mouseX() // 2)\n    hapi.fill(hapi.color[\"yellow\"])\n    hapi.alpha_ellipse(100, 100, 100, 100)\n    hapi.fill(hapi.color[\"green\"])\n    hapi.alpha_ellipse(150, 100, 100, 100)\n    pygame.display.flip()\n\n    hapi.event_loop()\n\npygame.quit()"
      ]
    }
  ],
  "metadata": {
    "kernelspec": {
      "display_name": "Python 3",
      "language": "python",
      "name": "python3"
    },
    "language_info": {
      "codemirror_mode": {
        "name": "ipython",
        "version": 3
      },
      "file_extension": ".py",
      "mimetype": "text/x-python",
      "name": "python",
      "nbconvert_exporter": "python",
      "pygments_lexer": "ipython3",
      "version": "3.10.4"
    }
  },
  "nbformat": 4,
  "nbformat_minor": 0
}