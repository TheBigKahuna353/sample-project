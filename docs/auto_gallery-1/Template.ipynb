{
  "cells": [
    {
      "cell_type": "code",
      "execution_count": null,
      "metadata": {
        "collapsed": false
      },
      "outputs": [],
      "source": [
        "%matplotlib inline"
      ]
    },
    {
      "cell_type": "markdown",
      "metadata": {},
      "source": [
        "\nAuthor: https://github.com/TheBigKahuna353\n"
      ]
    },
    {
      "cell_type": "code",
      "execution_count": null,
      "metadata": {
        "collapsed": false
      },
      "outputs": [],
      "source": [
        "from hooman import Hooman  # import hooman\n\n\n# create the hooman api (hapi)\n# set the window size to 500 pixels wide and 500 pixels tall\nhapi = Hooman(500, 500)\n\n\n# loop while the window is open\nwhile hapi.is_running:\n\n    # this is the game loop\n    # everything in here occurs once every frame\n\n    # set the background to white, this should always be the first thing you draw to the screen\n    hapi.background(hapi.color[\"white\"])\n\n    # get any new events like a mouse click or a key press, this handles the events\n    # and should only be called once every frame\n    hapi.event_loop()\n\n    # update the screen with everything you have drawn\n    # this should only be called once every frame\n    hapi.flip_display()"
      ]
    }
  ],
  "metadata": {
    "kernelspec": {
      "display_name": "Python 3",
      "language": "python",
      "name": "python3"
    },
    "language_info": {
      "codemirror_mode": {
        "name": "ipython",
        "version": 3
      },
      "file_extension": ".py",
      "mimetype": "text/x-python",
      "name": "python",
      "nbconvert_exporter": "python",
      "pygments_lexer": "ipython3",
      "version": "3.10.4"
    }
  },
  "nbformat": 4,
  "nbformat_minor": 0
}