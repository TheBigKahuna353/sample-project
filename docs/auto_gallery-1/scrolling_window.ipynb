{
  "cells": [
    {
      "cell_type": "code",
      "execution_count": null,
      "metadata": {
        "collapsed": false
      },
      "outputs": [],
      "source": [
        "%matplotlib inline"
      ]
    },
    {
      "cell_type": "markdown",
      "metadata": {},
      "source": [
        "\nAuthor: https://github.com/TheBigKahuna353\n"
      ]
    },
    {
      "cell_type": "code",
      "execution_count": null,
      "metadata": {
        "collapsed": false
      },
      "outputs": [],
      "source": [
        "from hooman import Hooman\nimport pygame\nimport random\n\nwindow_width, window_height = 500, 500\nhapi = Hooman(window_width, window_height)\n\nbg_col = (255, 255, 255)\n\nscroll = hapi.scroll({\"range_y\": 400})\n\nslider = hapi.slider(100, 850, 300, 30, {\"curve\": 0.8})\n\nwhile hapi.is_running:\n    hapi.background(bg_col)\n\n    hapi.fill(hapi.color[\"red\"])\n    dy = scroll[1]\n    hapi.rect(100, 600 + dy, 100, 100)\n    hapi.rect(200, 400 + dy, 100, 200)\n\n    scroll.update()\n    slider.update()\n    slider.Move(y=850 + dy)\n\n    hapi.event_loop()\n    hapi.flip_display()\n\npygame.quit()"
      ]
    }
  ],
  "metadata": {
    "kernelspec": {
      "display_name": "Python 3",
      "language": "python",
      "name": "python3"
    },
    "language_info": {
      "codemirror_mode": {
        "name": "ipython",
        "version": 3
      },
      "file_extension": ".py",
      "mimetype": "text/x-python",
      "name": "python",
      "nbconvert_exporter": "python",
      "pygments_lexer": "ipython3",
      "version": "3.10.4"
    }
  },
  "nbformat": 4,
  "nbformat_minor": 0
}