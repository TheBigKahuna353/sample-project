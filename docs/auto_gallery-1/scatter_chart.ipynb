{
  "cells": [
    {
      "cell_type": "code",
      "execution_count": null,
      "metadata": {
        "collapsed": false
      },
      "outputs": [],
      "source": [
        "%matplotlib inline"
      ]
    },
    {
      "cell_type": "markdown",
      "metadata": {},
      "source": [
        "\nAuthor: Abdur-Rahmaan Janhangeer\nGithub: https://github.com/Abdur-rahmaanJ\n"
      ]
    },
    {
      "cell_type": "code",
      "execution_count": null,
      "metadata": {
        "collapsed": false
      },
      "outputs": [],
      "source": [
        "# https://seaborn.pydata.org/examples/different_scatter_variables.html\n\nfrom hooman import Hooman\nimport pandas as pd\nimport os\n\nwindow_width, window_height = 650, 600\nhapi = Hooman(window_width, window_height)\n\n\nbase_path = os.path.dirname(os.path.abspath(__file__))\ndf = pd.read_csv(os.path.join(base_path, \"data\", \"diamonds.csv\"))\n\ndata = {k: list(df[k]) for k in df.columns.values.tolist()}\n\nhapi.background(255)\n\ncolx = \"carat\"\ncoly = \"price\"\n\nclarity_ranking = [\"I1\", \"SI2\", \"SI1\", \"VS2\", \"VS1\", \"VVS2\", \"VVS1\", \"IF\"]\nhapi.scatterchart(\n    40,\n    30,\n    500,\n    500,\n    {\n        \"data\": data,\n        \"ticks_x\": 5,\n        \"mouse_line\": False,\n        \"range_y\": [min(data[coly]), max(data[coly])],\n        \"range_x\": [min(data[colx]), max(data[colx])],\n        \"tick_size\": 10,\n        \"show_ticks_x\": True,\n        \"show_ticks_y\": True,\n        \"x\": colx,\n        \"y\": coly,\n        \"hue\": \"clarity\",\n        \"hue_order\": clarity_ranking,\n        \"size\": \"depth\",\n        \"plot_background\": False,\n        \"plot_grid\": False,\n        \"line_color\": 200,\n    },\n)\n\nwhile hapi.is_running:\n    bg_col = (255, 255, 255)\n    hapi.flip_display()\n    hapi.event_loop()"
      ]
    }
  ],
  "metadata": {
    "kernelspec": {
      "display_name": "Python 3",
      "language": "python",
      "name": "python3"
    },
    "language_info": {
      "codemirror_mode": {
        "name": "ipython",
        "version": 3
      },
      "file_extension": ".py",
      "mimetype": "text/x-python",
      "name": "python",
      "nbconvert_exporter": "python",
      "pygments_lexer": "ipython3",
      "version": "3.10.4"
    }
  },
  "nbformat": 4,
  "nbformat_minor": 0
}